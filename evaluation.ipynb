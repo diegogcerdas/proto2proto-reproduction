{
 "cells": [
  {
   "cell_type": "code",
   "execution_count": null,
   "metadata": {},
   "outputs": [],
   "source": [
    "from reproduction.dataloader import CUBDataLoader\n",
    "from reproduction.wrapper import PPNetWrapper"
   ]
  },
  {
   "cell_type": "code",
   "execution_count": null,
   "metadata": {},
   "outputs": [],
   "source": [
    "dataloader = CUBDataLoader(\n",
    "        test_dir,\n",
    "        test_batch_size,\n",
    "        num_workers,\n",
    ")\n",
    "\n",
    "model = PPNetWrapper(\n",
    "        backbone,\n",
    "        dataloader,\n",
    "        checkpoint_path,\n",
    "        args\n",
    ")"
   ]
  }
 ],
 "metadata": {
  "kernelspec": {
   "display_name": "base",
   "language": "python",
   "name": "python3"
  },
  "language_info": {
   "name": "python",
   "version": "3.9.13 (main, Aug 25 2022, 23:51:50) [MSC v.1916 64 bit (AMD64)]"
  },
  "orig_nbformat": 4,
  "vscode": {
   "interpreter": {
    "hash": "fab5d248a33c36ac8ff9d0753198e3fae3eaa0a93bce8e68451a265dc45f9286"
   }
  }
 },
 "nbformat": 4,
 "nbformat_minor": 2
}
