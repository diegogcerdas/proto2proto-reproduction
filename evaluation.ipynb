{
 "cells": [
  {
   "cell_type": "code",
   "execution_count": 1,
   "metadata": {},
   "outputs": [
    {
     "name": "stdout",
     "output_type": "stream",
     "text": [
      "Device: cpu\n"
     ]
    }
   ],
   "source": [
    "import torch\n",
    "from reproduction.dataloader import CUBDataLoader\n",
    "from reproduction.wrapper import PPNetWrapper\n",
    "from reproduction.arguments import Arguments\n",
    "\n",
    "device = torch.device(\"cuda:0\") if torch.cuda.is_available() else torch.device(\"cpu\")\n",
    "print(\"Device:\", device)"
   ]
  },
  {
   "cell_type": "code",
   "execution_count": 2,
   "metadata": {},
   "outputs": [
    {
     "name": "stderr",
     "output_type": "stream",
     "text": [
      "Finding patches: 100%|██████████| 5994/5994 [43:28<00:00,  2.30it/s]  \n",
      "Saving images: 100%|██████████| 2000/2000 [06:22<00:00,  5.22it/s]\n"
     ]
    },
    {
     "data": {
      "text/plain": [
       "array([[  0,   0,   0,   0,   0],\n",
       "       [ 43,   0,  89,  24,  89],\n",
       "       [  0,   0,   0,  82,  11],\n",
       "       ...,\n",
       "       [159, 168,  15, 168, 139],\n",
       "       [ 19,  19, 199, 167, 199],\n",
       "       [199, 195, 178,  17,  82]])"
      ]
     },
     "execution_count": 2,
     "metadata": {},
     "output_type": "execute_result"
    }
   ],
   "source": [
    "args_filename = 'arguments/vgg19_teacher.yaml'\n",
    "args = Arguments(args_filename)\n",
    "model = PPNetWrapper(args, device)\n",
    "model.find_nearest_patches()"
   ]
  },
  {
   "cell_type": "code",
   "execution_count": 2,
   "metadata": {},
   "outputs": [
    {
     "name": "stderr",
     "output_type": "stream",
     "text": [
      "Finding patches: 100%|██████████| 5994/5994 [22:11<00:00,  4.50it/s]\n",
      "Saving images: 100%|██████████| 2000/2000 [06:46<00:00,  4.92it/s]\n"
     ]
    },
    {
     "data": {
      "text/plain": [
       "array([[  0,  71,  45,  99,  52],\n",
       "       [ 22,  99,  99,   0,   0],\n",
       "       [127, 193,   5,  51,  22],\n",
       "       ...,\n",
       "       [188, 196, 161, 104,  77],\n",
       "       [194, 192, 150, 125, 123],\n",
       "       [168,  78, 156, 164, 159]])"
      ]
     },
     "execution_count": 2,
     "metadata": {},
     "output_type": "execute_result"
    }
   ],
   "source": [
    "args_filename = 'arguments/vgg11_baseline.yaml'\n",
    "args = Arguments(args_filename)\n",
    "model = PPNetWrapper(args, device)\n",
    "model.find_nearest_patches()"
   ]
  },
  {
   "cell_type": "code",
   "execution_count": 3,
   "metadata": {},
   "outputs": [
    {
     "name": "stderr",
     "output_type": "stream",
     "text": [
      "Finding patches: 100%|██████████| 5994/5994 [23:29<00:00,  4.25it/s]\n",
      "Saving images: 100%|██████████| 2000/2000 [06:46<00:00,  4.92it/s]\n"
     ]
    },
    {
     "data": {
      "text/plain": [
       "array([[  0,  24,  32,   0,  82],\n",
       "       [ 24,  22,   7,  24,   0],\n",
       "       [  0,   0,  32,  24,  82],\n",
       "       ...,\n",
       "       [168, 122, 168, 195, 163],\n",
       "       [199, 199, 170,  19, 167],\n",
       "       [147, 195, 153, 138,  73]])"
      ]
     },
     "execution_count": 3,
     "metadata": {},
     "output_type": "execute_result"
    }
   ],
   "source": [
    "args_filename = 'arguments/vgg11_kd.yaml'\n",
    "args = Arguments(args_filename)\n",
    "model = PPNetWrapper(args, device)\n",
    "model.find_nearest_patches()"
   ]
  },
  {
   "cell_type": "code",
   "execution_count": 2,
   "metadata": {},
   "outputs": [
    {
     "name": "stderr",
     "output_type": "stream",
     "text": [
      "Finding patches: 100%|██████████| 5994/5994 [36:24<00:00,  2.74it/s]\n",
      "Saving images: 100%|██████████| 2000/2000 [07:37<00:00,  4.37it/s]\n"
     ]
    },
    {
     "data": {
      "text/plain": [
       "array([[  7,  24,   7,  24,   0],\n",
       "       [106,  22,   7,   7, 106],\n",
       "       [ 22,   7,   0,   0,   7],\n",
       "       ...,\n",
       "       [ 19,  19, 179, 166, 167],\n",
       "       [179, 181, 171, 179,  19],\n",
       "       [ 19,  19, 167,  19,  19]])"
      ]
     },
     "execution_count": 2,
     "metadata": {},
     "output_type": "execute_result"
    }
   ],
   "source": [
    "args_filename = 'arguments/vgg16_baseline.yaml'\n",
    "args = Arguments(args_filename)\n",
    "model = PPNetWrapper(args, device)\n",
    "model.find_nearest_patches()"
   ]
  },
  {
   "cell_type": "code",
   "execution_count": 3,
   "metadata": {},
   "outputs": [
    {
     "name": "stderr",
     "output_type": "stream",
     "text": [
      "Finding patches: 100%|██████████| 5994/5994 [31:57<00:00,  3.13it/s]  \n",
      "Saving images: 100%|██████████| 2000/2000 [06:19<00:00,  5.27it/s]\n"
     ]
    },
    {
     "data": {
      "text/plain": [
       "array([[ 82, 135, 135,  82, 190],\n",
       "       [ 82,  24,  82,  22,   7],\n",
       "       [ 82, 135, 135,  82, 190],\n",
       "       ...,\n",
       "       [168, 163, 181, 102, 185],\n",
       "       [ 19, 199,  19, 199, 161],\n",
       "       [108, 199, 152, 153, 147]])"
      ]
     },
     "execution_count": 3,
     "metadata": {},
     "output_type": "execute_result"
    }
   ],
   "source": [
    "args_filename = 'arguments/vgg16_kd.yaml'\n",
    "args = Arguments(args_filename)\n",
    "model = PPNetWrapper(args, device)\n",
    "model.find_nearest_patches()"
   ]
  }
 ],
 "metadata": {
  "kernelspec": {
   "display_name": "proto2proto",
   "language": "python",
   "name": "python3"
  },
  "language_info": {
   "codemirror_mode": {
    "name": "ipython",
    "version": 3
   },
   "file_extension": ".py",
   "mimetype": "text/x-python",
   "name": "python",
   "nbconvert_exporter": "python",
   "pygments_lexer": "ipython3",
   "version": "3.6.13"
  },
  "orig_nbformat": 4,
  "vscode": {
   "interpreter": {
    "hash": "fb0b64a4485a0f65044880cbfea5573c38e702e7a807f18a026dcfda4649a7a6"
   }
  }
 },
 "nbformat": 4,
 "nbformat_minor": 2
}
