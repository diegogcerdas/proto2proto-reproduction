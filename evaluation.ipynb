{
 "cells": [
  {
   "cell_type": "code",
   "execution_count": 1,
   "metadata": {},
   "outputs": [
    {
     "name": "stdout",
     "output_type": "stream",
     "text": [
      "Device: cpu\n"
     ]
    }
   ],
   "source": [
    "import torch\n",
    "from reproduction.dataloader import CUBDataLoader\n",
    "from reproduction.wrapper import PPNetWrapper\n",
    "from reproduction.arguments import Arguments\n",
    "\n",
    "device = torch.device(\"cuda:0\") if torch.cuda.is_available() else torch.device(\"cpu\")\n",
    "print(\"Device:\", device)"
   ]
  },
  {
   "cell_type": "code",
   "execution_count": 2,
   "metadata": {},
   "outputs": [],
   "source": [
    "args = Arguments('arguments/vgg19_teacher.yaml')\n",
    "\n",
    "dataloader = CUBDataLoader(\n",
    "        test_dir='datasets/CUB_200_2011/test_crop/',\n",
    "        test_batch_size=64,\n",
    "        num_workers=8,\n",
    "        normalize_test=False\n",
    ")\n",
    "\n",
    "model = PPNetWrapper(\n",
    "        args,\n",
    "        dataloader,\n",
    "        device\n",
    ")"
   ]
  },
  {
   "cell_type": "code",
   "execution_count": 3,
   "metadata": {},
   "outputs": [
    {
     "name": "stdout",
     "output_type": "stream",
     "text": [
      "(64, 3, 224, 224)\n",
      "0.0 1.0\n"
     ]
    }
   ],
   "source": [
    "import numpy as np\n",
    "\n",
    "for (search_batch, search_y) in dataloader.test_loader:\n",
    "    search_batch = search_batch.cpu().numpy()\n",
    "    print(search_batch.shape)\n",
    "    print(np.min(search_batch), np.max(search_batch))\n",
    "    break"
   ]
  },
  {
   "cell_type": "code",
   "execution_count": 4,
   "metadata": {},
   "outputs": [
    {
     "name": "stderr",
     "output_type": "stream",
     "text": [
      "100%|██████████| 91/91 [41:40<00:00, 27.48s/it]\n"
     ]
    }
   ],
   "source": [
    "labels_all_prototype = model.find_k_nearest_patches_to_prototypes(dataloader.test_loader)"
   ]
  },
  {
   "cell_type": "code",
   "execution_count": null,
   "metadata": {},
   "outputs": [],
   "source": [
    "acc = model.evaluate_accuracy()"
   ]
  }
 ],
 "metadata": {
  "kernelspec": {
   "display_name": "proto2proto",
   "language": "python",
   "name": "python3"
  },
  "language_info": {
   "codemirror_mode": {
    "name": "ipython",
    "version": 3
   },
   "file_extension": ".py",
   "mimetype": "text/x-python",
   "name": "python",
   "nbconvert_exporter": "python",
   "pygments_lexer": "ipython3",
   "version": "3.6.13"
  },
  "orig_nbformat": 4,
  "vscode": {
   "interpreter": {
    "hash": "fb0b64a4485a0f65044880cbfea5573c38e702e7a807f18a026dcfda4649a7a6"
   }
  }
 },
 "nbformat": 4,
 "nbformat_minor": 2
}
