{
 "cells": [
  {
   "cell_type": "code",
   "execution_count": 1,
   "metadata": {},
   "outputs": [
    {
     "name": "stdout",
     "output_type": "stream",
     "text": [
      "Device: cpu\n"
     ]
    }
   ],
   "source": [
    "import torch\n",
    "from reproduction.dataloader import CUBDataLoader\n",
    "from reproduction.wrapper import PPNetWrapper\n",
    "from reproduction.arguments import Arguments\n",
    "\n",
    "device = torch.device(\"cuda:0\") if torch.cuda.is_available() else torch.device(\"cpu\")\n",
    "print(\"Device:\", device)"
   ]
  },
  {
   "cell_type": "code",
   "execution_count": 7,
   "metadata": {},
   "outputs": [],
   "source": [
    "args = Arguments('arguments/vgg19_teacher.yaml')\n",
    "\n",
    "dataloader = CUBDataLoader(\n",
    "        test_dir='datasets/CUB_200_2011/test_crop/',\n",
    "        test_batch_size=64,\n",
    "        num_workers=8,\n",
    ")\n",
    "\n",
    "model = PPNetWrapper(\n",
    "        args,\n",
    "        dataloader,\n",
    "        device\n",
    ")"
   ]
  },
  {
   "cell_type": "code",
   "execution_count": null,
   "metadata": {},
   "outputs": [],
   "source": [
    "acc = model.evaluate_accuracy()"
   ]
  }
 ],
 "metadata": {
  "kernelspec": {
   "display_name": "proto2proto",
   "language": "python",
   "name": "python3"
  },
  "language_info": {
   "codemirror_mode": {
    "name": "ipython",
    "version": 3
   },
   "file_extension": ".py",
   "mimetype": "text/x-python",
   "name": "python",
   "nbconvert_exporter": "python",
   "pygments_lexer": "ipython3",
   "version": "3.6.13"
  },
  "orig_nbformat": 4,
  "vscode": {
   "interpreter": {
    "hash": "fb0b64a4485a0f65044880cbfea5573c38e702e7a807f18a026dcfda4649a7a6"
   }
  }
 },
 "nbformat": 4,
 "nbformat_minor": 2
}
