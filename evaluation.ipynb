{
 "cells": [
  {
   "cell_type": "code",
   "execution_count": 1,
   "metadata": {},
   "outputs": [
    {
     "name": "stdout",
     "output_type": "stream",
     "text": [
      "Device: cpu\n"
     ]
    }
   ],
   "source": [
    "import torch\n",
    "from reproduction.dataloader import CUBDataLoader\n",
    "from reproduction.wrapper import PPNetWrapper\n",
    "from reproduction.arguments import Arguments\n",
    "\n",
    "device = torch.device(\"cuda:0\") if torch.cuda.is_available() else torch.device(\"cpu\")\n",
    "print(\"Device:\", device)"
   ]
  },
  {
   "cell_type": "code",
   "execution_count": 5,
   "metadata": {},
   "outputs": [
    {
     "name": "stdout",
     "output_type": "stream",
     "text": [
      "Numpy Intersect Time: 0.1578221321105957\n"
     ]
    }
   ],
   "source": [
    "import torch, time\n",
    "\n",
    "tic= time.time()\n",
    "t1= torch.randint(0, 99999, (10, 6000))\n",
    "t = [set(t_.unique()) for t_ in t1]\n",
    "print('Numpy Intersect Time:', time.time()-tic)"
   ]
  },
  {
   "cell_type": "code",
   "execution_count": 4,
   "metadata": {},
   "outputs": [
    {
     "name": "stdout",
     "output_type": "stream",
     "text": [
      "Numpy Intersect Time: 0.016644716262817383\n"
     ]
    }
   ],
   "source": [
    "import torch, time\n",
    "\n",
    "tic= time.time()\n",
    "t1= torch.randint(0, 99999, (10, 6000))\n",
    "t = [set(t_.unique().numpy()) for t_ in t1]\n",
    "print('Numpy Intersect Time:', time.time()-tic)"
   ]
  },
  {
   "cell_type": "code",
   "execution_count": 2,
   "metadata": {},
   "outputs": [
    {
     "name": "stderr",
     "output_type": "stream",
     "text": [
      "Finding patches: 100%|██████████| 5994/5994 [43:28<00:00,  2.30it/s]  \n",
      "Saving images: 100%|██████████| 2000/2000 [06:22<00:00,  5.22it/s]\n"
     ]
    },
    {
     "data": {
      "text/plain": [
       "array([[  0,   0,   0,   0,   0],\n",
       "       [ 43,   0,  89,  24,  89],\n",
       "       [  0,   0,   0,  82,  11],\n",
       "       ...,\n",
       "       [159, 168,  15, 168, 139],\n",
       "       [ 19,  19, 199, 167, 199],\n",
       "       [199, 195, 178,  17,  82]])"
      ]
     },
     "execution_count": 2,
     "metadata": {},
     "output_type": "execute_result"
    }
   ],
   "source": [
    "args_filename = 'arguments/vgg19_teacher.yaml'\n",
    "args = Arguments(args_filename)\n",
    "model = PPNetWrapper(args, device)\n",
    "model.find_nearest_patches()"
   ]
  }
 ],
 "metadata": {
  "kernelspec": {
   "display_name": "proto2proto",
   "language": "python",
   "name": "python3"
  },
  "language_info": {
   "codemirror_mode": {
    "name": "ipython",
    "version": 3
   },
   "file_extension": ".py",
   "mimetype": "text/x-python",
   "name": "python",
   "nbconvert_exporter": "python",
   "pygments_lexer": "ipython3",
   "version": "3.6.13"
  },
  "orig_nbformat": 4,
  "vscode": {
   "interpreter": {
    "hash": "fb0b64a4485a0f65044880cbfea5573c38e702e7a807f18a026dcfda4649a7a6"
   }
  }
 },
 "nbformat": 4,
 "nbformat_minor": 2
}
